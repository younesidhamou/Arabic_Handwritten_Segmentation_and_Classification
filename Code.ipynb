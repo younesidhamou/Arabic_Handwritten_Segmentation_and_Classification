{
 "cells": [
  {
   "cell_type": "markdown",
   "id": "9860d8ed",
   "metadata": {},
   "source": [
    "# I. Importation des packages"
   ]
  },
  {
   "cell_type": "code",
   "execution_count": 123,
   "id": "ca4cbc18",
   "metadata": {},
   "outputs": [],
   "source": [
    "import pandas as pd\n",
    "import numpy as np\n",
    "import matplotlib.pyplot as plt\n",
    "from sklearn.metrics import confusion_matrix\n",
    "import seaborn as sns\n",
    "from PIL import ImageChops,Image\n",
    "import glob\n",
    "import cv2\n",
    "import os\n",
    "import time"
   ]
  },
  {
   "cell_type": "markdown",
   "id": "bc776d86",
   "metadata": {},
   "source": [
    "# I.  Extraction de donnees"
   ]
  },
  {
   "cell_type": "code",
   "execution_count": 124,
   "id": "6246ffac",
   "metadata": {},
   "outputs": [],
   "source": [
    "# define a dictionnary of each arabic word with its translated one in english\n",
    "arabic_to_english = {\n",
    "    'ا': 'alif',\n",
    "    'ء': 'h_amza',\n",
    "    'ب': 'ba',\n",
    "    'ت': 'ta',\n",
    "    'ث': 'tha',\n",
    "    'ة': 'tae_marbota',\n",
    "    'ج': 'jim',\n",
    "    'ح': 'hae',\n",
    "    'خ': 'kha',\n",
    "    'د': 'dal',\n",
    "    'ذ': 'dhal',\n",
    "    'ر': 'ra',\n",
    "    'ز': 'za',\n",
    "    'س': 'sin',\n",
    "    'ش': 'shin',\n",
    "    'ص': 'sad',\n",
    "    'ض': 'dad',\n",
    "    'ط': 'tta',\n",
    "    'ظ': 'ddad',\n",
    "    'ع': 'ayn',\n",
    "    'غ': 'ghayn',\n",
    "    'ف': 'fa',\n",
    "    'ق': 'qaf',\n",
    "    'ك': 'kaf',\n",
    "    'ل': 'lam',\n",
    "    'لا':'lam_alif',\n",
    "    'م': 'mim',\n",
    "    'ن': 'nun',\n",
    "    'ه': 'haae',\n",
    "    'و': 'waw',\n",
    "    'ي': 'yae',\n",
    "    'ى':'alif_maksoura'\n",
    "}"
   ]
  },
  {
   "cell_type": "markdown",
   "id": "80f7c84b",
   "metadata": {},
   "source": [
    "- preparation des images"
   ]
  },
  {
   "cell_type": "code",
   "execution_count": 125,
   "id": "70d46b18",
   "metadata": {},
   "outputs": [],
   "source": [
    "def trim(image):\n",
    "    image=Image.fromarray(image)\n",
    "    bg = Image.new(image.mode, image.size, image.getpixel((0,0))) # black background\n",
    "    diff = ImageChops.difference(image, bg)\n",
    "    diff = ImageChops.add(diff, diff, 2.0, -100)\n",
    "    bbox = diff.getbbox()\n",
    "    if bbox:\n",
    "        return np.array(image.crop(bbox))\n",
    "# cv2.INTER_AREA: examiner les pixels voisins et utiliser ces voisins pour augmenter ou diminuer optiquement la taille de l’image sans introduire de distorsions\n",
    "def image_resize(image, width = None, height = None, inter = cv2.INTER_AREA):\n",
    "    dim = None\n",
    "    (h, w) = image.shape[:2]\n",
    "    if width is None and height is None:\n",
    "        return image\n",
    "    if width is None:\n",
    "        r = height / float(h)\n",
    "        dim = (int(w * r), height)\n",
    "    else:\n",
    "        r = width / float(w)\n",
    "        dim = (width, int(h * r))\n",
    "    resized = cv2.resize(image, dim, interpolation = inter)\n",
    "    return resized\n",
    "def cleaned_image(image):\n",
    "    bg=np.zeros((100,100))\n",
    "    image=trim(image)\n",
    "    image=image_resize(image,height=100)\n",
    "    image_gray = cv2.cvtColor(image, cv2.COLOR_BGR2GRAY)\n",
    "    thresh, image_binary = cv2.threshold(image_gray, 128, 255, cv2.THRESH_BINARY + cv2.THRESH_OTSU)\n",
    "    hh, ww = bg.shape\n",
    "    h, w = image_binary.shape\n",
    "    yoff = round((hh-h)/2)\n",
    "    xoff = round((ww-w)/2)\n",
    "    if xoff<=0:\n",
    "        image=image_resize(image,height=100,width=100)\n",
    "        image_gray = cv2.cvtColor(image, cv2.COLOR_BGR2GRAY)\n",
    "        thresh, image_binary = cv2.threshold(image_gray, 128, 255, cv2.THRESH_BINARY + cv2.THRESH_OTSU)\n",
    "        h, w = image_binary.shape\n",
    "        yoff = round((hh-h)/2)\n",
    "        xoff = round((ww-w)/2)\n",
    "    result = bg.copy()\n",
    "    result[yoff:yoff+h, xoff:xoff+w] = image_binary\n",
    "    return result"
   ]
  },
  {
   "cell_type": "markdown",
   "id": "c3828f50",
   "metadata": {},
   "source": [
    "##### Importation des images"
   ]
  },
  {
   "cell_type": "code",
   "execution_count": 128,
   "id": "e16ed73b",
   "metadata": {},
   "outputs": [],
   "source": [
    "path = \"../Datasets/letters/\"\n",
    "dir_list = os.listdir(path)\n",
    "df=list([])\n",
    "labe=[]\n",
    "for i in dir_list:\n",
    "    dir_letters = os.listdir(\"../Datasets/letters/\" + i)\n",
    "    for k in dir_letters:\n",
    "        image_files= os.listdir(\"../Datasets/letters/\" + i+\"/\"+k)\n",
    "        for j in image_files:\n",
    "            label=i+\"_\"+k\n",
    "            labe.append(label)\n",
    "            im=cv2.imread(\"../Datasets/letters/\" + i+\"/\"+k+\"/\"+j)\n",
    "            cleaned=cleaned_image(im)\n",
    "            img=cleaned.reshape(100*100) #On a redimensionner chaque indivisu (image) sous format d'un vecteur de 28*28=784 variables\n",
    "            df.append(img)"
   ]
  },
  {
   "cell_type": "markdown",
   "id": "1f97bfb2",
   "metadata": {},
   "source": [
    "##### Stocker les images dans le dataframe"
   ]
  },
  {
   "cell_type": "code",
   "execution_count": 129,
   "id": "361b51c6",
   "metadata": {},
   "outputs": [],
   "source": [
    "df=pd.DataFrame(df)\n",
    "df[\"target\"]=labe"
   ]
  },
  {
   "cell_type": "code",
   "execution_count": 130,
   "id": "a256f823",
   "metadata": {},
   "outputs": [
    {
     "data": {
      "text/plain": [
       "(4177, 10001)"
      ]
     },
     "execution_count": 130,
     "metadata": {},
     "output_type": "execute_result"
    }
   ],
   "source": [
    "df.shape"
   ]
  },
  {
   "cell_type": "code",
   "execution_count": 43,
   "id": "d365eb40",
   "metadata": {},
   "outputs": [
    {
     "data": {
      "text/html": [
       "<div>\n",
       "<style scoped>\n",
       "    .dataframe tbody tr th:only-of-type {\n",
       "        vertical-align: middle;\n",
       "    }\n",
       "\n",
       "    .dataframe tbody tr th {\n",
       "        vertical-align: top;\n",
       "    }\n",
       "\n",
       "    .dataframe thead th {\n",
       "        text-align: right;\n",
       "    }\n",
       "</style>\n",
       "<table border=\"1\" class=\"dataframe\">\n",
       "  <thead>\n",
       "    <tr style=\"text-align: right;\">\n",
       "      <th></th>\n",
       "      <th>0</th>\n",
       "      <th>1</th>\n",
       "      <th>2</th>\n",
       "      <th>3</th>\n",
       "      <th>4</th>\n",
       "      <th>5</th>\n",
       "      <th>6</th>\n",
       "      <th>7</th>\n",
       "      <th>8</th>\n",
       "      <th>9</th>\n",
       "      <th>...</th>\n",
       "      <th>9991</th>\n",
       "      <th>9992</th>\n",
       "      <th>9993</th>\n",
       "      <th>9994</th>\n",
       "      <th>9995</th>\n",
       "      <th>9996</th>\n",
       "      <th>9997</th>\n",
       "      <th>9998</th>\n",
       "      <th>9999</th>\n",
       "      <th>target</th>\n",
       "    </tr>\n",
       "  </thead>\n",
       "  <tbody>\n",
       "    <tr>\n",
       "      <th>0</th>\n",
       "      <td>0.0</td>\n",
       "      <td>0.0</td>\n",
       "      <td>0.0</td>\n",
       "      <td>0.0</td>\n",
       "      <td>0.0</td>\n",
       "      <td>0.0</td>\n",
       "      <td>0.0</td>\n",
       "      <td>0.0</td>\n",
       "      <td>0.0</td>\n",
       "      <td>0.0</td>\n",
       "      <td>...</td>\n",
       "      <td>0.0</td>\n",
       "      <td>0.0</td>\n",
       "      <td>0.0</td>\n",
       "      <td>0.0</td>\n",
       "      <td>0.0</td>\n",
       "      <td>0.0</td>\n",
       "      <td>0.0</td>\n",
       "      <td>0.0</td>\n",
       "      <td>0.0</td>\n",
       "      <td>alif_end</td>\n",
       "    </tr>\n",
       "    <tr>\n",
       "      <th>1</th>\n",
       "      <td>0.0</td>\n",
       "      <td>0.0</td>\n",
       "      <td>0.0</td>\n",
       "      <td>0.0</td>\n",
       "      <td>0.0</td>\n",
       "      <td>0.0</td>\n",
       "      <td>0.0</td>\n",
       "      <td>0.0</td>\n",
       "      <td>0.0</td>\n",
       "      <td>0.0</td>\n",
       "      <td>...</td>\n",
       "      <td>0.0</td>\n",
       "      <td>0.0</td>\n",
       "      <td>0.0</td>\n",
       "      <td>0.0</td>\n",
       "      <td>0.0</td>\n",
       "      <td>0.0</td>\n",
       "      <td>0.0</td>\n",
       "      <td>0.0</td>\n",
       "      <td>0.0</td>\n",
       "      <td>alif_end</td>\n",
       "    </tr>\n",
       "    <tr>\n",
       "      <th>2</th>\n",
       "      <td>0.0</td>\n",
       "      <td>0.0</td>\n",
       "      <td>0.0</td>\n",
       "      <td>0.0</td>\n",
       "      <td>0.0</td>\n",
       "      <td>0.0</td>\n",
       "      <td>0.0</td>\n",
       "      <td>0.0</td>\n",
       "      <td>0.0</td>\n",
       "      <td>0.0</td>\n",
       "      <td>...</td>\n",
       "      <td>0.0</td>\n",
       "      <td>0.0</td>\n",
       "      <td>0.0</td>\n",
       "      <td>0.0</td>\n",
       "      <td>0.0</td>\n",
       "      <td>0.0</td>\n",
       "      <td>0.0</td>\n",
       "      <td>0.0</td>\n",
       "      <td>0.0</td>\n",
       "      <td>alif_end</td>\n",
       "    </tr>\n",
       "    <tr>\n",
       "      <th>3</th>\n",
       "      <td>0.0</td>\n",
       "      <td>0.0</td>\n",
       "      <td>0.0</td>\n",
       "      <td>0.0</td>\n",
       "      <td>0.0</td>\n",
       "      <td>0.0</td>\n",
       "      <td>0.0</td>\n",
       "      <td>0.0</td>\n",
       "      <td>0.0</td>\n",
       "      <td>0.0</td>\n",
       "      <td>...</td>\n",
       "      <td>0.0</td>\n",
       "      <td>0.0</td>\n",
       "      <td>0.0</td>\n",
       "      <td>0.0</td>\n",
       "      <td>0.0</td>\n",
       "      <td>0.0</td>\n",
       "      <td>0.0</td>\n",
       "      <td>0.0</td>\n",
       "      <td>0.0</td>\n",
       "      <td>alif_end</td>\n",
       "    </tr>\n",
       "    <tr>\n",
       "      <th>4</th>\n",
       "      <td>0.0</td>\n",
       "      <td>0.0</td>\n",
       "      <td>0.0</td>\n",
       "      <td>0.0</td>\n",
       "      <td>0.0</td>\n",
       "      <td>0.0</td>\n",
       "      <td>0.0</td>\n",
       "      <td>0.0</td>\n",
       "      <td>0.0</td>\n",
       "      <td>0.0</td>\n",
       "      <td>...</td>\n",
       "      <td>0.0</td>\n",
       "      <td>0.0</td>\n",
       "      <td>0.0</td>\n",
       "      <td>0.0</td>\n",
       "      <td>0.0</td>\n",
       "      <td>0.0</td>\n",
       "      <td>0.0</td>\n",
       "      <td>0.0</td>\n",
       "      <td>0.0</td>\n",
       "      <td>alif_end</td>\n",
       "    </tr>\n",
       "  </tbody>\n",
       "</table>\n",
       "<p>5 rows × 10001 columns</p>\n",
       "</div>"
      ],
      "text/plain": [
       "     0    1    2    3    4    5    6    7    8    9  ...  9991  9992  9993  \\\n",
       "0  0.0  0.0  0.0  0.0  0.0  0.0  0.0  0.0  0.0  0.0  ...   0.0   0.0   0.0   \n",
       "1  0.0  0.0  0.0  0.0  0.0  0.0  0.0  0.0  0.0  0.0  ...   0.0   0.0   0.0   \n",
       "2  0.0  0.0  0.0  0.0  0.0  0.0  0.0  0.0  0.0  0.0  ...   0.0   0.0   0.0   \n",
       "3  0.0  0.0  0.0  0.0  0.0  0.0  0.0  0.0  0.0  0.0  ...   0.0   0.0   0.0   \n",
       "4  0.0  0.0  0.0  0.0  0.0  0.0  0.0  0.0  0.0  0.0  ...   0.0   0.0   0.0   \n",
       "\n",
       "   9994  9995  9996  9997  9998  9999    target  \n",
       "0   0.0   0.0   0.0   0.0   0.0   0.0  alif_end  \n",
       "1   0.0   0.0   0.0   0.0   0.0   0.0  alif_end  \n",
       "2   0.0   0.0   0.0   0.0   0.0   0.0  alif_end  \n",
       "3   0.0   0.0   0.0   0.0   0.0   0.0  alif_end  \n",
       "4   0.0   0.0   0.0   0.0   0.0   0.0  alif_end  \n",
       "\n",
       "[5 rows x 10001 columns]"
      ]
     },
     "execution_count": 43,
     "metadata": {},
     "output_type": "execute_result"
    }
   ],
   "source": [
    "df.head()"
   ]
  },
  {
   "cell_type": "markdown",
   "id": "e1ed925e",
   "metadata": {},
   "source": [
    "##### Distribution  de donnees"
   ]
  },
  {
   "cell_type": "code",
   "execution_count": 170,
   "id": "873d9542",
   "metadata": {},
   "outputs": [
    {
     "data": {
      "text/plain": [
       "<AxesSubplot:xlabel='target'>"
      ]
     },
     "execution_count": 170,
     "metadata": {},
     "output_type": "execute_result"
    },
    {
     "data": {
      "image/png": "[encoded data removed]",
      "text/plain": [
       "<Figure size 864x720 with 1 Axes>"
      ]
     },
     "metadata": {
      "needs_background": "light"
     },
     "output_type": "display_data"
    }
   ],
   "source": [
    "#etudiant la distribution des lettres\n",
    "pd.DataFrame(df[\"target\"]).value_counts().plot.bar(figsize=(12,10))"
   ]
  },
  {
   "cell_type": "markdown",
   "id": "e3b0ca04",
   "metadata": {},
   "source": [
    "- On remarque que les classes du dataset sont distribuées d'une manière déséquilibre"
   ]
  },
  {
   "cell_type": "markdown",
   "id": "6ad4fad3",
   "metadata": {},
   "source": [
    "## II.  Transformation de donnees"
   ]
  },
  {
   "cell_type": "markdown",
   "id": "92f7b7bd",
   "metadata": {},
   "source": [
    "##### Redimensionnemnt des individus"
   ]
  },
  {
   "cell_type": "code",
   "execution_count": 71,
   "id": "6c2867cd",
   "metadata": {},
   "outputs": [],
   "source": [
    "from sklearn.model_selection import train_test_split\n",
    "y = filtered_df1[['target']]\n",
    "X = filtered_df1.drop(['target', ], axis = 1)\n",
    "X=X/255 # les valeurs du matrice est entre [0,1]"
   ]
  },
  {
   "cell_type": "code",
   "execution_count": 144,
   "id": "66ff5af5",
   "metadata": {},
   "outputs": [
    {
     "data": {
      "text/plain": [
       "4"
      ]
     },
     "execution_count": 144,
     "metadata": {},
     "output_type": "execute_result"
    }
   ],
   "source": [
    "from sklearn.model_selection import StratifiedShuffleSplit\n",
    "sss = StratifiedShuffleSplit(n_splits=4, test_size=0.1)\n",
    "#n_splits : détermine le nombre de fois que le jeu de données sera divisé en deux sous-ensembles, un ensemble d'entraînement et un ensemble de test.\n",
    "#test_size : la taille de la partie des test dans notre jeu de données.\n",
    "sss.get_n_splits(X, y)"
   ]
  },
  {
   "cell_type": "markdown",
   "id": "6bae548b",
   "metadata": {},
   "source": [
    "## III.  Modélisation"
   ]
  },
  {
   "cell_type": "code",
   "execution_count": 145,
   "id": "44ccf530",
   "metadata": {},
   "outputs": [
    {
     "name": "stdout",
     "output_type": "stream",
     "text": [
      "n_splits  0\n",
      "accuracy de train :  100.0\n",
      "accuracy de test :  60.0\n",
      "n_splits  1\n",
      "accuracy de train :  100.0\n",
      "accuracy de test :  58.5\n",
      "n_splits  2\n",
      "accuracy de train :  100.0\n",
      "accuracy de test :  62.0\n",
      "n_splits  3\n",
      "accuracy de train :  100.0\n",
      "accuracy de test :  60.0\n"
     ]
    }
   ],
   "source": [
    "from sklearn.metrics import accuracy_score \n",
    "scores = []\n",
    "count=0\n",
    " \n",
    "rf = RandomForestClassifier(n_estimators=200, max_depth=100,bootstrap=True)\n",
    "#max_depth : La max_depth d’un arbre dans Random Forest est définie comme le chemin le plus long entre le nœud racine et le nœud feuille.\n",
    "#n_estimators : Nombre d’arbres dans la forêt\n",
    "#bootstrap : Méthode d’échantillonnage des points de données (avec ou sans remplacement).\n",
    "for train_index, test_index in sss.split(X, y): # explorer les sous-ensembles\n",
    "    X_train, X_test = X.iloc[train_index], X.iloc[test_index] # la partie d'entrainement\n",
    "    y_train, y_test = y.iloc[train_index],  y.iloc[test_index] # la partie de test\n",
    "    rf.fit(X_train, y_train.values.ravel()) # Entrainer le modele\n",
    "    print(\"n_splits \",count) # afficher le sous-ensemble\n",
    "    print(\"accuracy de train : \",rf.score(X_train,y_train.values.ravel())*100) # afficher l'accuracy d'entrainement\n",
    "    print(\"accuracy de test : \",rf.score(X_test,y_test.values.ravel())*100) # afficher l'accuracy de test\n",
    "    count=count+1"
   ]
  },
  {
   "cell_type": "markdown",
   "id": "54c9f4d1",
   "metadata": {},
   "source": [
    "### visualiser un exemple de resultats"
   ]
  },
  {
   "cell_type": "code",
   "execution_count": 162,
   "id": "05b88767",
   "metadata": {},
   "outputs": [
    {
     "data": {
      "text/plain": [
       "array(['nun_end'], dtype=object)"
      ]
     },
     "execution_count": 162,
     "metadata": {},
     "output_type": "execute_result"
    }
   ],
   "source": [
    "rf.predict(X_test.iloc[1:2])"
   ]
  },
  {
   "cell_type": "code",
   "execution_count": 164,
   "id": "a26c41c6",
   "metadata": {},
   "outputs": [
    {
     "data": {
      "text/plain": [
       "<matplotlib.image.AxesImage at 0x1ffe2d04f70>"
      ]
     },
     "execution_count": 164,
     "metadata": {},
     "output_type": "execute_result"
    },
    {
     "data": {
      "image/png": "[encoded data removed]",
      "text/plain": [
       "<Figure size 432x288 with 1 Axes>"
      ]
     },
     "metadata": {
      "needs_background": "light"
     },
     "output_type": "display_data"
    }
   ],
   "source": [
    "plt.imshow(np.array(X_test.iloc[1:2]).reshape(100,100),cmap=\"gray\")"
   ]
  }
 ],
 "metadata": {
  "kernelspec": {
   "display_name": "Python 3 (ipykernel)",
   "language": "python",
   "name": "python3"
  },
  "language_info": {
   "codemirror_mode": {
    "name": "ipython",
    "version": 3
   },
   "file_extension": ".py",
   "mimetype": "text/x-python",
   "name": "python",
   "nbconvert_exporter": "python",
   "pygments_lexer": "ipython3",
   "version": "3.9.12"
  }
 },
 "nbformat": 4,
 "nbformat_minor": 5
}
